{
  "nbformat": 4,
  "nbformat_minor": 0,
  "metadata": {
    "colab": {
      "provenance": []
    },
    "kernelspec": {
      "name": "python3",
      "display_name": "Python 3"
    },
    "language_info": {
      "name": "python"
    },
    "widgets": {
      "application/vnd.jupyter.widget-state+json": {
        "6dec453917474b99aa5411de09be4dc4": {
          "model_module": "@jupyter-widgets/controls",
          "model_name": "VBoxModel",
          "model_module_version": "1.5.0",
          "state": {
            "_dom_classes": [],
            "_model_module": "@jupyter-widgets/controls",
            "_model_module_version": "1.5.0",
            "_model_name": "VBoxModel",
            "_view_count": null,
            "_view_module": "@jupyter-widgets/controls",
            "_view_module_version": "1.5.0",
            "_view_name": "VBoxView",
            "box_style": "",
            "children": [
              "IPY_MODEL_7822672922db4263925af5b2dbe36d05",
              "IPY_MODEL_ea0a8c756f414a16a788a5b1bde8d0db",
              "IPY_MODEL_3289b6c96d094cfe836b9c2f999a2569"
            ],
            "layout": "IPY_MODEL_dec22fd3c9a544ec81803473b731e4a2"
          }
        },
        "7822672922db4263925af5b2dbe36d05": {
          "model_module": "@jupyter-widgets/controls",
          "model_name": "TextareaModel",
          "model_module_version": "1.5.0",
          "state": {
            "_dom_classes": [],
            "_model_module": "@jupyter-widgets/controls",
            "_model_module_version": "1.5.0",
            "_model_name": "TextareaModel",
            "_view_count": null,
            "_view_module": "@jupyter-widgets/controls",
            "_view_module_version": "1.5.0",
            "_view_name": "TextareaView",
            "continuous_update": true,
            "description": "",
            "description_tooltip": null,
            "disabled": false,
            "layout": "IPY_MODEL_6e7a7fd967574c4b8feb5673b0f155e0",
            "placeholder": "Enter text here...",
            "rows": null,
            "style": "IPY_MODEL_457edb69dd3143d48165bc0bb87359e1",
            "value": "In the vast landscape of technological advancement, few inventions have left as profound a mark on human civilization as the computer. From its humble beginnings as room-sized machines to the sleek, portable devices that fit in the palm of our hands today, the computer has undergone a remarkable evolution, shaping the way we live, work, and interact with the world around us.\n\nAt its core, a computer is a complex electronic device designed to process, store, and manipulate data. It operates on the principle of binary logic, where information is represented using combinations of ones and zeros, known as binary digits or bits. This binary language forms the foundation of all digital computing, enabling computers to perform a wide range of tasks with astonishing speed and accuracy.\n"
          }
        },
        "ea0a8c756f414a16a788a5b1bde8d0db": {
          "model_module": "@jupyter-widgets/controls",
          "model_name": "ButtonModel",
          "model_module_version": "1.5.0",
          "state": {
            "_dom_classes": [],
            "_model_module": "@jupyter-widgets/controls",
            "_model_module_version": "1.5.0",
            "_model_name": "ButtonModel",
            "_view_count": null,
            "_view_module": "@jupyter-widgets/controls",
            "_view_module_version": "1.5.0",
            "_view_name": "ButtonView",
            "button_style": "",
            "description": "Summarize",
            "disabled": false,
            "icon": "",
            "layout": "IPY_MODEL_6f0dc4c068b146be94612a1536902d2c",
            "style": "IPY_MODEL_4ec60ba179734f17bbe3dc5e3c223100",
            "tooltip": ""
          }
        },
        "3289b6c96d094cfe836b9c2f999a2569": {
          "model_module": "@jupyter-widgets/controls",
          "model_name": "TextareaModel",
          "model_module_version": "1.5.0",
          "state": {
            "_dom_classes": [],
            "_model_module": "@jupyter-widgets/controls",
            "_model_module_version": "1.5.0",
            "_model_name": "TextareaModel",
            "_view_count": null,
            "_view_module": "@jupyter-widgets/controls",
            "_view_module_version": "1.5.0",
            "_view_name": "TextareaView",
            "continuous_update": true,
            "description": "",
            "description_tooltip": null,
            "disabled": false,
            "layout": "IPY_MODEL_90e482da3c1448418385ab2573662da4",
            "placeholder": "Summary will appear here...",
            "rows": null,
            "style": "IPY_MODEL_187f21c58fe744baafc720748b1ad3bd",
            "value": "the computer is a complex electronic device designed to process, store, and manipulate data . it operates on the principle of binary logic, where information is represented using combinations of ones and zeros . computers can perform a wide range of tasks with astonishing speed and accuracy ."
          }
        },
        "dec22fd3c9a544ec81803473b731e4a2": {
          "model_module": "@jupyter-widgets/base",
          "model_name": "LayoutModel",
          "model_module_version": "1.2.0",
          "state": {
            "_model_module": "@jupyter-widgets/base",
            "_model_module_version": "1.2.0",
            "_model_name": "LayoutModel",
            "_view_count": null,
            "_view_module": "@jupyter-widgets/base",
            "_view_module_version": "1.2.0",
            "_view_name": "LayoutView",
            "align_content": null,
            "align_items": null,
            "align_self": null,
            "border": null,
            "bottom": null,
            "display": null,
            "flex": null,
            "flex_flow": null,
            "grid_area": null,
            "grid_auto_columns": null,
            "grid_auto_flow": null,
            "grid_auto_rows": null,
            "grid_column": null,
            "grid_gap": null,
            "grid_row": null,
            "grid_template_areas": null,
            "grid_template_columns": null,
            "grid_template_rows": null,
            "height": null,
            "justify_content": null,
            "justify_items": null,
            "left": null,
            "margin": null,
            "max_height": null,
            "max_width": null,
            "min_height": null,
            "min_width": null,
            "object_fit": null,
            "object_position": null,
            "order": null,
            "overflow": null,
            "overflow_x": null,
            "overflow_y": null,
            "padding": null,
            "right": null,
            "top": null,
            "visibility": null,
            "width": null
          }
        },
        "6e7a7fd967574c4b8feb5673b0f155e0": {
          "model_module": "@jupyter-widgets/base",
          "model_name": "LayoutModel",
          "model_module_version": "1.2.0",
          "state": {
            "_model_module": "@jupyter-widgets/base",
            "_model_module_version": "1.2.0",
            "_model_name": "LayoutModel",
            "_view_count": null,
            "_view_module": "@jupyter-widgets/base",
            "_view_module_version": "1.2.0",
            "_view_name": "LayoutView",
            "align_content": null,
            "align_items": null,
            "align_self": null,
            "border": null,
            "bottom": null,
            "display": null,
            "flex": null,
            "flex_flow": null,
            "grid_area": null,
            "grid_auto_columns": null,
            "grid_auto_flow": null,
            "grid_auto_rows": null,
            "grid_column": null,
            "grid_gap": null,
            "grid_row": null,
            "grid_template_areas": null,
            "grid_template_columns": null,
            "grid_template_rows": null,
            "height": "200px",
            "justify_content": null,
            "justify_items": null,
            "left": null,
            "margin": null,
            "max_height": null,
            "max_width": null,
            "min_height": null,
            "min_width": null,
            "object_fit": null,
            "object_position": null,
            "order": null,
            "overflow": null,
            "overflow_x": null,
            "overflow_y": null,
            "padding": null,
            "right": null,
            "top": null,
            "visibility": null,
            "width": "600px"
          }
        },
        "457edb69dd3143d48165bc0bb87359e1": {
          "model_module": "@jupyter-widgets/controls",
          "model_name": "DescriptionStyleModel",
          "model_module_version": "1.5.0",
          "state": {
            "_model_module": "@jupyter-widgets/controls",
            "_model_module_version": "1.5.0",
            "_model_name": "DescriptionStyleModel",
            "_view_count": null,
            "_view_module": "@jupyter-widgets/base",
            "_view_module_version": "1.2.0",
            "_view_name": "StyleView",
            "description_width": ""
          }
        },
        "6f0dc4c068b146be94612a1536902d2c": {
          "model_module": "@jupyter-widgets/base",
          "model_name": "LayoutModel",
          "model_module_version": "1.2.0",
          "state": {
            "_model_module": "@jupyter-widgets/base",
            "_model_module_version": "1.2.0",
            "_model_name": "LayoutModel",
            "_view_count": null,
            "_view_module": "@jupyter-widgets/base",
            "_view_module_version": "1.2.0",
            "_view_name": "LayoutView",
            "align_content": null,
            "align_items": null,
            "align_self": null,
            "border": null,
            "bottom": null,
            "display": null,
            "flex": null,
            "flex_flow": null,
            "grid_area": null,
            "grid_auto_columns": null,
            "grid_auto_flow": null,
            "grid_auto_rows": null,
            "grid_column": null,
            "grid_gap": null,
            "grid_row": null,
            "grid_template_areas": null,
            "grid_template_columns": null,
            "grid_template_rows": null,
            "height": null,
            "justify_content": null,
            "justify_items": null,
            "left": null,
            "margin": null,
            "max_height": null,
            "max_width": null,
            "min_height": null,
            "min_width": null,
            "object_fit": null,
            "object_position": null,
            "order": null,
            "overflow": null,
            "overflow_x": null,
            "overflow_y": null,
            "padding": null,
            "right": null,
            "top": null,
            "visibility": null,
            "width": null
          }
        },
        "4ec60ba179734f17bbe3dc5e3c223100": {
          "model_module": "@jupyter-widgets/controls",
          "model_name": "ButtonStyleModel",
          "model_module_version": "1.5.0",
          "state": {
            "_model_module": "@jupyter-widgets/controls",
            "_model_module_version": "1.5.0",
            "_model_name": "ButtonStyleModel",
            "_view_count": null,
            "_view_module": "@jupyter-widgets/base",
            "_view_module_version": "1.2.0",
            "_view_name": "StyleView",
            "button_color": null,
            "font_weight": ""
          }
        },
        "90e482da3c1448418385ab2573662da4": {
          "model_module": "@jupyter-widgets/base",
          "model_name": "LayoutModel",
          "model_module_version": "1.2.0",
          "state": {
            "_model_module": "@jupyter-widgets/base",
            "_model_module_version": "1.2.0",
            "_model_name": "LayoutModel",
            "_view_count": null,
            "_view_module": "@jupyter-widgets/base",
            "_view_module_version": "1.2.0",
            "_view_name": "LayoutView",
            "align_content": null,
            "align_items": null,
            "align_self": null,
            "border": null,
            "bottom": null,
            "display": null,
            "flex": null,
            "flex_flow": null,
            "grid_area": null,
            "grid_auto_columns": null,
            "grid_auto_flow": null,
            "grid_auto_rows": null,
            "grid_column": null,
            "grid_gap": null,
            "grid_row": null,
            "grid_template_areas": null,
            "grid_template_columns": null,
            "grid_template_rows": null,
            "height": "200px",
            "justify_content": null,
            "justify_items": null,
            "left": null,
            "margin": null,
            "max_height": null,
            "max_width": null,
            "min_height": null,
            "min_width": null,
            "object_fit": null,
            "object_position": null,
            "order": null,
            "overflow": null,
            "overflow_x": null,
            "overflow_y": null,
            "padding": null,
            "right": null,
            "top": null,
            "visibility": null,
            "width": "600px"
          }
        },
        "187f21c58fe744baafc720748b1ad3bd": {
          "model_module": "@jupyter-widgets/controls",
          "model_name": "DescriptionStyleModel",
          "model_module_version": "1.5.0",
          "state": {
            "_model_module": "@jupyter-widgets/controls",
            "_model_module_version": "1.5.0",
            "_model_name": "DescriptionStyleModel",
            "_view_count": null,
            "_view_module": "@jupyter-widgets/base",
            "_view_module_version": "1.2.0",
            "_view_name": "StyleView",
            "description_width": ""
          }
        }
      }
    }
  },
  "cells": [
    {
      "cell_type": "code",
      "execution_count": null,
      "metadata": {
        "id": "6C6_GUHOqP4I"
      },
      "outputs": [],
      "source": [
        "text = \"\"\"In conclusion, the provided code clusters countries based on the ratio of affected to recovered COVID-19 cases using the K-Means algorithm. It partitions the data into three clusters, represented by different colors. The choice of K-Means is justified by its simplicity and efficiency, although it requires specifying the number of clusters in advance. The dataset includes attributes such as country names, total reported cases, and total recovered cases, with unnecessary columns excluded for this analysis. This approach provides insights into how countries compare in terms of their COVID-19 recovery rates.\"\"\"\n",
        "\n"
      ]
    },
    {
      "cell_type": "code",
      "source": [],
      "metadata": {
        "id": "nSffou8XijNF"
      },
      "execution_count": null,
      "outputs": []
    },
    {
      "cell_type": "code",
      "source": [],
      "metadata": {
        "id": "w0QjCKcPijVh"
      },
      "execution_count": null,
      "outputs": []
    },
    {
      "cell_type": "code",
      "source": [
        "len(text)"
      ],
      "metadata": {
        "colab": {
          "base_uri": "https://localhost:8080/"
        },
        "id": "JI2QTd-5qapW",
        "outputId": "e61c60a5-ab5e-40a1-9121-54beca536b2f"
      },
      "execution_count": null,
      "outputs": [
        {
          "output_type": "execute_result",
          "data": {
            "text/plain": [
              "611"
            ]
          },
          "metadata": {},
          "execution_count": 3
        }
      ]
    },
    {
      "cell_type": "code",
      "source": [
        "import spacy\n",
        "from spacy.lang.en.stop_words import STOP_WORDS\n",
        "from string import punctuation"
      ],
      "metadata": {
        "id": "IUr3TsBQqe3L"
      },
      "execution_count": null,
      "outputs": []
    },
    {
      "cell_type": "code",
      "source": [
        "nlp = spacy.load('en_core_web_sm')"
      ],
      "metadata": {
        "id": "V5YvuV90tYnf"
      },
      "execution_count": null,
      "outputs": []
    },
    {
      "cell_type": "code",
      "source": [
        "doc = nlp(text)"
      ],
      "metadata": {
        "id": "PduG3AuctZHC"
      },
      "execution_count": null,
      "outputs": []
    },
    {
      "cell_type": "code",
      "source": [
        "tokens = [token.text.lower() for token in doc if not token.is_stop and not token.is_punct and token.text != '\\n']\n"
      ],
      "metadata": {
        "id": "b2uA63fntZJ4"
      },
      "execution_count": null,
      "outputs": []
    },
    {
      "cell_type": "code",
      "source": [
        "tokens"
      ],
      "metadata": {
        "colab": {
          "base_uri": "https://localhost:8080/"
        },
        "id": "ZlWvWnLdtZMx",
        "outputId": "f967a44d-c3e2-43a9-b7b9-745a5654c94d"
      },
      "execution_count": null,
      "outputs": [
        {
          "output_type": "execute_result",
          "data": {
            "text/plain": [
              "['conclusion',\n",
              " 'provided',\n",
              " 'code',\n",
              " 'clusters',\n",
              " 'countries',\n",
              " 'based',\n",
              " 'ratio',\n",
              " 'affected',\n",
              " 'recovered',\n",
              " 'covid-19',\n",
              " 'cases',\n",
              " 'k',\n",
              " 'means',\n",
              " 'algorithm',\n",
              " 'partitions',\n",
              " 'data',\n",
              " 'clusters',\n",
              " 'represented',\n",
              " 'different',\n",
              " 'colors',\n",
              " 'choice',\n",
              " 'k',\n",
              " 'means',\n",
              " 'justified',\n",
              " 'simplicity',\n",
              " 'efficiency',\n",
              " 'requires',\n",
              " 'specifying',\n",
              " 'number',\n",
              " 'clusters',\n",
              " 'advance',\n",
              " 'dataset',\n",
              " 'includes',\n",
              " 'attributes',\n",
              " 'country',\n",
              " 'names',\n",
              " 'total',\n",
              " 'reported',\n",
              " 'cases',\n",
              " 'total',\n",
              " 'recovered',\n",
              " 'cases',\n",
              " 'unnecessary',\n",
              " 'columns',\n",
              " 'excluded',\n",
              " 'analysis',\n",
              " 'approach',\n",
              " 'provides',\n",
              " 'insights',\n",
              " 'countries',\n",
              " 'compare',\n",
              " 'terms',\n",
              " 'covid-19',\n",
              " 'recovery',\n",
              " 'rates']"
            ]
          },
          "metadata": {},
          "execution_count": 49
        }
      ]
    },
    {
      "cell_type": "code",
      "source": [
        "tokens1=[]\n",
        "stopwords = list(STOP_WORDS)\n",
        "allowed_pos =['ADJ','PROPN','VERB','NOUN']\n",
        "for token in doc:\n",
        "  if token.text in stopwords or token.text in punctuation:\n",
        "    continue\n",
        "  if token.pos_ in allowed_pos:\n",
        "    tokens1.append(token.text)"
      ],
      "metadata": {
        "id": "cvpU91FotZPm"
      },
      "execution_count": null,
      "outputs": []
    },
    {
      "cell_type": "code",
      "source": [
        "tokens1"
      ],
      "metadata": {
        "colab": {
          "base_uri": "https://localhost:8080/"
        },
        "id": "nBttCjDwtZSK",
        "outputId": "4fe121ea-27fe-4125-af31-952c0c01b121"
      },
      "execution_count": null,
      "outputs": [
        {
          "output_type": "execute_result",
          "data": {
            "text/plain": [
              "['conclusion',\n",
              " 'provided',\n",
              " 'code',\n",
              " 'clusters',\n",
              " 'countries',\n",
              " 'based',\n",
              " 'ratio',\n",
              " 'affected',\n",
              " 'recovered',\n",
              " 'COVID-19',\n",
              " 'cases',\n",
              " 'K',\n",
              " 'Means',\n",
              " 'algorithm',\n",
              " 'partitions',\n",
              " 'data',\n",
              " 'clusters',\n",
              " 'represented',\n",
              " 'different',\n",
              " 'colors',\n",
              " 'choice',\n",
              " 'K',\n",
              " 'Means',\n",
              " 'justified',\n",
              " 'simplicity',\n",
              " 'efficiency',\n",
              " 'requires',\n",
              " 'specifying',\n",
              " 'number',\n",
              " 'clusters',\n",
              " 'advance',\n",
              " 'dataset',\n",
              " 'includes',\n",
              " 'attributes',\n",
              " 'country',\n",
              " 'names',\n",
              " 'total',\n",
              " 'reported',\n",
              " 'cases',\n",
              " 'total',\n",
              " 'recovered',\n",
              " 'cases',\n",
              " 'unnecessary',\n",
              " 'columns',\n",
              " 'excluded',\n",
              " 'analysis',\n",
              " 'approach',\n",
              " 'provides',\n",
              " 'insights',\n",
              " 'countries',\n",
              " 'compare',\n",
              " 'terms',\n",
              " 'COVID-19',\n",
              " 'recovery',\n",
              " 'rates']"
            ]
          },
          "metadata": {},
          "execution_count": 51
        }
      ]
    },
    {
      "cell_type": "code",
      "source": [
        "from collections import Counter"
      ],
      "metadata": {
        "id": "gUyAvuzEtZUv"
      },
      "execution_count": null,
      "outputs": []
    },
    {
      "cell_type": "code",
      "source": [
        "word_freq = Counter(tokens)"
      ],
      "metadata": {
        "id": "IBpjHyM4tZXU"
      },
      "execution_count": null,
      "outputs": []
    },
    {
      "cell_type": "code",
      "source": [
        "word_freq"
      ],
      "metadata": {
        "colab": {
          "base_uri": "https://localhost:8080/"
        },
        "id": "WZ_xtSPUtZZz",
        "outputId": "9680eab5-bd82-40bf-f61e-b07bbe4068b4"
      },
      "execution_count": null,
      "outputs": [
        {
          "output_type": "execute_result",
          "data": {
            "text/plain": [
              "Counter({'conclusion': 1,\n",
              "         'provided': 1,\n",
              "         'code': 1,\n",
              "         'clusters': 3,\n",
              "         'countries': 2,\n",
              "         'based': 1,\n",
              "         'ratio': 1,\n",
              "         'affected': 1,\n",
              "         'recovered': 2,\n",
              "         'covid-19': 2,\n",
              "         'cases': 3,\n",
              "         'k': 2,\n",
              "         'means': 2,\n",
              "         'algorithm': 1,\n",
              "         'partitions': 1,\n",
              "         'data': 1,\n",
              "         'represented': 1,\n",
              "         'different': 1,\n",
              "         'colors': 1,\n",
              "         'choice': 1,\n",
              "         'justified': 1,\n",
              "         'simplicity': 1,\n",
              "         'efficiency': 1,\n",
              "         'requires': 1,\n",
              "         'specifying': 1,\n",
              "         'number': 1,\n",
              "         'advance': 1,\n",
              "         'dataset': 1,\n",
              "         'includes': 1,\n",
              "         'attributes': 1,\n",
              "         'country': 1,\n",
              "         'names': 1,\n",
              "         'total': 2,\n",
              "         'reported': 1,\n",
              "         'unnecessary': 1,\n",
              "         'columns': 1,\n",
              "         'excluded': 1,\n",
              "         'analysis': 1,\n",
              "         'approach': 1,\n",
              "         'provides': 1,\n",
              "         'insights': 1,\n",
              "         'compare': 1,\n",
              "         'terms': 1,\n",
              "         'recovery': 1,\n",
              "         'rates': 1})"
            ]
          },
          "metadata": {},
          "execution_count": 54
        }
      ]
    },
    {
      "cell_type": "code",
      "source": [
        "max_freq = max (word_freq.values())"
      ],
      "metadata": {
        "id": "rU1UEwXPtZcG"
      },
      "execution_count": null,
      "outputs": []
    },
    {
      "cell_type": "code",
      "source": [
        "max_freq"
      ],
      "metadata": {
        "colab": {
          "base_uri": "https://localhost:8080/"
        },
        "id": "AxLAglCytZed",
        "outputId": "09f1e054-095a-4624-ce85-a7ae57522ed7"
      },
      "execution_count": null,
      "outputs": [
        {
          "output_type": "execute_result",
          "data": {
            "text/plain": [
              "3"
            ]
          },
          "metadata": {},
          "execution_count": 29
        }
      ]
    },
    {
      "cell_type": "markdown",
      "source": [],
      "metadata": {
        "id": "oA15k7cK_K31"
      }
    },
    {
      "cell_type": "code",
      "source": [
        "for word in word_freq.keys():\n",
        "  word_freq[word]= word_freq[word]/max_freq"
      ],
      "metadata": {
        "id": "5AgVH14l_LrY"
      },
      "execution_count": null,
      "outputs": []
    },
    {
      "cell_type": "code",
      "source": [
        "word_freq"
      ],
      "metadata": {
        "colab": {
          "base_uri": "https://localhost:8080/"
        },
        "id": "tqqz-FLj_Lt9",
        "outputId": "07124402-1b5e-41e0-ce6a-9c6b9d8ea122"
      },
      "execution_count": null,
      "outputs": [
        {
          "output_type": "execute_result",
          "data": {
            "text/plain": [
              "Counter({'conclusion': 0.3333333333333333,\n",
              "         'provided': 0.3333333333333333,\n",
              "         'code': 0.3333333333333333,\n",
              "         'clusters': 1.0,\n",
              "         'countries': 0.6666666666666666,\n",
              "         'based': 0.3333333333333333,\n",
              "         'ratio': 0.3333333333333333,\n",
              "         'affected': 0.3333333333333333,\n",
              "         'recovered': 0.6666666666666666,\n",
              "         'covid-19': 0.6666666666666666,\n",
              "         'cases': 1.0,\n",
              "         'k': 0.6666666666666666,\n",
              "         'means': 0.6666666666666666,\n",
              "         'algorithm': 0.3333333333333333,\n",
              "         'partitions': 0.3333333333333333,\n",
              "         'data': 0.3333333333333333,\n",
              "         'represented': 0.3333333333333333,\n",
              "         'different': 0.3333333333333333,\n",
              "         'colors': 0.3333333333333333,\n",
              "         'choice': 0.3333333333333333,\n",
              "         'justified': 0.3333333333333333,\n",
              "         'simplicity': 0.3333333333333333,\n",
              "         'efficiency': 0.3333333333333333,\n",
              "         'requires': 0.3333333333333333,\n",
              "         'specifying': 0.3333333333333333,\n",
              "         'number': 0.3333333333333333,\n",
              "         'advance': 0.3333333333333333,\n",
              "         'dataset': 0.3333333333333333,\n",
              "         'includes': 0.3333333333333333,\n",
              "         'attributes': 0.3333333333333333,\n",
              "         'country': 0.3333333333333333,\n",
              "         'names': 0.3333333333333333,\n",
              "         'total': 0.6666666666666666,\n",
              "         'reported': 0.3333333333333333,\n",
              "         'unnecessary': 0.3333333333333333,\n",
              "         'columns': 0.3333333333333333,\n",
              "         'excluded': 0.3333333333333333,\n",
              "         'analysis': 0.3333333333333333,\n",
              "         'approach': 0.3333333333333333,\n",
              "         'provides': 0.3333333333333333,\n",
              "         'insights': 0.3333333333333333,\n",
              "         'compare': 0.3333333333333333,\n",
              "         'terms': 0.3333333333333333,\n",
              "         'recovery': 0.3333333333333333,\n",
              "         'rates': 0.3333333333333333})"
            ]
          },
          "metadata": {},
          "execution_count": 31
        }
      ]
    },
    {
      "cell_type": "code",
      "source": [
        "sent_token = [sent.text for sent in doc.sents]"
      ],
      "metadata": {
        "id": "bGn4zb93_Lwm"
      },
      "execution_count": null,
      "outputs": []
    },
    {
      "cell_type": "code",
      "source": [
        "sent_token"
      ],
      "metadata": {
        "colab": {
          "base_uri": "https://localhost:8080/"
        },
        "id": "JNbjy1T1_Lyy",
        "outputId": "1b136e72-c2a7-4d7e-b2de-ec8d993d6c08"
      },
      "execution_count": null,
      "outputs": [
        {
          "output_type": "execute_result",
          "data": {
            "text/plain": [
              "['In conclusion, the provided code clusters countries based on the ratio of affected to recovered COVID-19 cases using the K-Means algorithm.',\n",
              " 'It partitions the data into three clusters, represented by different colors.',\n",
              " 'The choice of K-Means is justified by its simplicity and efficiency, although it requires specifying the number of clusters in advance.',\n",
              " 'The dataset includes attributes such as country names, total reported cases, and total recovered cases, with unnecessary columns excluded for this analysis.',\n",
              " 'This approach provides insights into how countries compare in terms of their COVID-19 recovery rates.']"
            ]
          },
          "metadata": {},
          "execution_count": 33
        }
      ]
    },
    {
      "cell_type": "code",
      "source": [
        "sent_score ={}\n",
        "for sent in sent_token:\n",
        "  for word in sent.split():\n",
        "    if word.lower() in word_freq.keys():\n",
        "        if sent not in sent_score.keys():\n",
        "          sent_score[sent]=word_freq[word]\n",
        "        else:\n",
        "          sent_score[sent] += word_freq[word]\n",
        "    print (word)\n"
      ],
      "metadata": {
        "colab": {
          "base_uri": "https://localhost:8080/"
        },
        "id": "1WWAW45g_L1Y",
        "outputId": "8f6304c2-8739-42f7-fd92-4456b1f51f08"
      },
      "execution_count": null,
      "outputs": [
        {
          "output_type": "stream",
          "name": "stdout",
          "text": [
            "In\n",
            "conclusion,\n",
            "the\n",
            "provided\n",
            "code\n",
            "clusters\n",
            "countries\n",
            "based\n",
            "on\n",
            "the\n",
            "ratio\n",
            "of\n",
            "affected\n",
            "to\n",
            "recovered\n",
            "COVID-19\n",
            "cases\n",
            "using\n",
            "the\n",
            "K-Means\n",
            "algorithm.\n",
            "It\n",
            "partitions\n",
            "the\n",
            "data\n",
            "into\n",
            "three\n",
            "clusters,\n",
            "represented\n",
            "by\n",
            "different\n",
            "colors.\n",
            "The\n",
            "choice\n",
            "of\n",
            "K-Means\n",
            "is\n",
            "justified\n",
            "by\n",
            "its\n",
            "simplicity\n",
            "and\n",
            "efficiency,\n",
            "although\n",
            "it\n",
            "requires\n",
            "specifying\n",
            "the\n",
            "number\n",
            "of\n",
            "clusters\n",
            "in\n",
            "advance.\n",
            "The\n",
            "dataset\n",
            "includes\n",
            "attributes\n",
            "such\n",
            "as\n",
            "country\n",
            "names,\n",
            "total\n",
            "reported\n",
            "cases,\n",
            "and\n",
            "total\n",
            "recovered\n",
            "cases,\n",
            "with\n",
            "unnecessary\n",
            "columns\n",
            "excluded\n",
            "for\n",
            "this\n",
            "analysis.\n",
            "This\n",
            "approach\n",
            "provides\n",
            "insights\n",
            "into\n",
            "how\n",
            "countries\n",
            "compare\n",
            "in\n",
            "terms\n",
            "of\n",
            "their\n",
            "COVID-19\n",
            "recovery\n",
            "rates.\n"
          ]
        }
      ]
    },
    {
      "cell_type": "code",
      "source": [
        "sent_score"
      ],
      "metadata": {
        "colab": {
          "base_uri": "https://localhost:8080/"
        },
        "id": "hRiOgEdd_L34",
        "outputId": "4773c281-959b-4b49-ffdd-8882e4691b90"
      },
      "execution_count": null,
      "outputs": [
        {
          "output_type": "execute_result",
          "data": {
            "text/plain": [
              "{'In conclusion, the provided code clusters countries based on the ratio of affected to recovered COVID-19 cases using the K-Means algorithm.': 5.0,\n",
              " 'It partitions the data into three clusters, represented by different colors.': 1.3333333333333333,\n",
              " 'The choice of K-Means is justified by its simplicity and efficiency, although it requires specifying the number of clusters in advance.': 3.0,\n",
              " 'The dataset includes attributes such as country names, total reported cases, and total recovered cases, with unnecessary columns excluded for this analysis.': 4.666666666666666,\n",
              " 'This approach provides insights into how countries compare in terms of their COVID-19 recovery rates.': 2.6666666666666665}"
            ]
          },
          "metadata": {},
          "execution_count": 36
        }
      ]
    },
    {
      "cell_type": "code",
      "source": [
        "import pandas as pd"
      ],
      "metadata": {
        "id": "_a3MLWDb_L6X"
      },
      "execution_count": null,
      "outputs": []
    },
    {
      "cell_type": "code",
      "source": [
        "pd.DataFrame(list(sent_score.items()), columns=['Sentence', 'Score'])\n"
      ],
      "metadata": {
        "colab": {
          "base_uri": "https://localhost:8080/",
          "height": 206
        },
        "id": "eYd2dOQf_L83",
        "outputId": "2ec6c587-a245-4917-bb3a-0ce5ff884d17"
      },
      "execution_count": null,
      "outputs": [
        {
          "output_type": "execute_result",
          "data": {
            "text/plain": [
              "                                            Sentence     Score\n",
              "0  In conclusion, the provided code clusters coun...  5.000000\n",
              "1  It partitions the data into three clusters, re...  1.333333\n",
              "2  The choice of K-Means is justified by its simp...  3.000000\n",
              "3  The dataset includes attributes such as countr...  4.666667\n",
              "4  This approach provides insights into how count...  2.666667"
            ],
            "text/html": [
              "\n",
              "  <div id=\"df-8dbc9861-22ca-4d60-9466-40aebfa759c8\" class=\"colab-df-container\">\n",
              "    <div>\n",
              "<style scoped>\n",
              "    .dataframe tbody tr th:only-of-type {\n",
              "        vertical-align: middle;\n",
              "    }\n",
              "\n",
              "    .dataframe tbody tr th {\n",
              "        vertical-align: top;\n",
              "    }\n",
              "\n",
              "    .dataframe thead th {\n",
              "        text-align: right;\n",
              "    }\n",
              "</style>\n",
              "<table border=\"1\" class=\"dataframe\">\n",
              "  <thead>\n",
              "    <tr style=\"text-align: right;\">\n",
              "      <th></th>\n",
              "      <th>Sentence</th>\n",
              "      <th>Score</th>\n",
              "    </tr>\n",
              "  </thead>\n",
              "  <tbody>\n",
              "    <tr>\n",
              "      <th>0</th>\n",
              "      <td>In conclusion, the provided code clusters coun...</td>\n",
              "      <td>5.000000</td>\n",
              "    </tr>\n",
              "    <tr>\n",
              "      <th>1</th>\n",
              "      <td>It partitions the data into three clusters, re...</td>\n",
              "      <td>1.333333</td>\n",
              "    </tr>\n",
              "    <tr>\n",
              "      <th>2</th>\n",
              "      <td>The choice of K-Means is justified by its simp...</td>\n",
              "      <td>3.000000</td>\n",
              "    </tr>\n",
              "    <tr>\n",
              "      <th>3</th>\n",
              "      <td>The dataset includes attributes such as countr...</td>\n",
              "      <td>4.666667</td>\n",
              "    </tr>\n",
              "    <tr>\n",
              "      <th>4</th>\n",
              "      <td>This approach provides insights into how count...</td>\n",
              "      <td>2.666667</td>\n",
              "    </tr>\n",
              "  </tbody>\n",
              "</table>\n",
              "</div>\n",
              "    <div class=\"colab-df-buttons\">\n",
              "\n",
              "  <div class=\"colab-df-container\">\n",
              "    <button class=\"colab-df-convert\" onclick=\"convertToInteractive('df-8dbc9861-22ca-4d60-9466-40aebfa759c8')\"\n",
              "            title=\"Convert this dataframe to an interactive table.\"\n",
              "            style=\"display:none;\">\n",
              "\n",
              "  <svg xmlns=\"http://www.w3.org/2000/svg\" height=\"24px\" viewBox=\"0 -960 960 960\">\n",
              "    <path d=\"M120-120v-720h720v720H120Zm60-500h600v-160H180v160Zm220 220h160v-160H400v160Zm0 220h160v-160H400v160ZM180-400h160v-160H180v160Zm440 0h160v-160H620v160ZM180-180h160v-160H180v160Zm440 0h160v-160H620v160Z\"/>\n",
              "  </svg>\n",
              "    </button>\n",
              "\n",
              "  <style>\n",
              "    .colab-df-container {\n",
              "      display:flex;\n",
              "      gap: 12px;\n",
              "    }\n",
              "\n",
              "    .colab-df-convert {\n",
              "      background-color: #E8F0FE;\n",
              "      border: none;\n",
              "      border-radius: 50%;\n",
              "      cursor: pointer;\n",
              "      display: none;\n",
              "      fill: #1967D2;\n",
              "      height: 32px;\n",
              "      padding: 0 0 0 0;\n",
              "      width: 32px;\n",
              "    }\n",
              "\n",
              "    .colab-df-convert:hover {\n",
              "      background-color: #E2EBFA;\n",
              "      box-shadow: 0px 1px 2px rgba(60, 64, 67, 0.3), 0px 1px 3px 1px rgba(60, 64, 67, 0.15);\n",
              "      fill: #174EA6;\n",
              "    }\n",
              "\n",
              "    .colab-df-buttons div {\n",
              "      margin-bottom: 4px;\n",
              "    }\n",
              "\n",
              "    [theme=dark] .colab-df-convert {\n",
              "      background-color: #3B4455;\n",
              "      fill: #D2E3FC;\n",
              "    }\n",
              "\n",
              "    [theme=dark] .colab-df-convert:hover {\n",
              "      background-color: #434B5C;\n",
              "      box-shadow: 0px 1px 3px 1px rgba(0, 0, 0, 0.15);\n",
              "      filter: drop-shadow(0px 1px 2px rgba(0, 0, 0, 0.3));\n",
              "      fill: #FFFFFF;\n",
              "    }\n",
              "  </style>\n",
              "\n",
              "    <script>\n",
              "      const buttonEl =\n",
              "        document.querySelector('#df-8dbc9861-22ca-4d60-9466-40aebfa759c8 button.colab-df-convert');\n",
              "      buttonEl.style.display =\n",
              "        google.colab.kernel.accessAllowed ? 'block' : 'none';\n",
              "\n",
              "      async function convertToInteractive(key) {\n",
              "        const element = document.querySelector('#df-8dbc9861-22ca-4d60-9466-40aebfa759c8');\n",
              "        const dataTable =\n",
              "          await google.colab.kernel.invokeFunction('convertToInteractive',\n",
              "                                                    [key], {});\n",
              "        if (!dataTable) return;\n",
              "\n",
              "        const docLinkHtml = 'Like what you see? Visit the ' +\n",
              "          '<a target=\"_blank\" href=https://colab.research.google.com/notebooks/data_table.ipynb>data table notebook</a>'\n",
              "          + ' to learn more about interactive tables.';\n",
              "        element.innerHTML = '';\n",
              "        dataTable['output_type'] = 'display_data';\n",
              "        await google.colab.output.renderOutput(dataTable, element);\n",
              "        const docLink = document.createElement('div');\n",
              "        docLink.innerHTML = docLinkHtml;\n",
              "        element.appendChild(docLink);\n",
              "      }\n",
              "    </script>\n",
              "  </div>\n",
              "\n",
              "\n",
              "<div id=\"df-8ae33f93-3110-4821-9181-64726beb3a6f\">\n",
              "  <button class=\"colab-df-quickchart\" onclick=\"quickchart('df-8ae33f93-3110-4821-9181-64726beb3a6f')\"\n",
              "            title=\"Suggest charts\"\n",
              "            style=\"display:none;\">\n",
              "\n",
              "<svg xmlns=\"http://www.w3.org/2000/svg\" height=\"24px\"viewBox=\"0 0 24 24\"\n",
              "     width=\"24px\">\n",
              "    <g>\n",
              "        <path d=\"M19 3H5c-1.1 0-2 .9-2 2v14c0 1.1.9 2 2 2h14c1.1 0 2-.9 2-2V5c0-1.1-.9-2-2-2zM9 17H7v-7h2v7zm4 0h-2V7h2v10zm4 0h-2v-4h2v4z\"/>\n",
              "    </g>\n",
              "</svg>\n",
              "  </button>\n",
              "\n",
              "<style>\n",
              "  .colab-df-quickchart {\n",
              "      --bg-color: #E8F0FE;\n",
              "      --fill-color: #1967D2;\n",
              "      --hover-bg-color: #E2EBFA;\n",
              "      --hover-fill-color: #174EA6;\n",
              "      --disabled-fill-color: #AAA;\n",
              "      --disabled-bg-color: #DDD;\n",
              "  }\n",
              "\n",
              "  [theme=dark] .colab-df-quickchart {\n",
              "      --bg-color: #3B4455;\n",
              "      --fill-color: #D2E3FC;\n",
              "      --hover-bg-color: #434B5C;\n",
              "      --hover-fill-color: #FFFFFF;\n",
              "      --disabled-bg-color: #3B4455;\n",
              "      --disabled-fill-color: #666;\n",
              "  }\n",
              "\n",
              "  .colab-df-quickchart {\n",
              "    background-color: var(--bg-color);\n",
              "    border: none;\n",
              "    border-radius: 50%;\n",
              "    cursor: pointer;\n",
              "    display: none;\n",
              "    fill: var(--fill-color);\n",
              "    height: 32px;\n",
              "    padding: 0;\n",
              "    width: 32px;\n",
              "  }\n",
              "\n",
              "  .colab-df-quickchart:hover {\n",
              "    background-color: var(--hover-bg-color);\n",
              "    box-shadow: 0 1px 2px rgba(60, 64, 67, 0.3), 0 1px 3px 1px rgba(60, 64, 67, 0.15);\n",
              "    fill: var(--button-hover-fill-color);\n",
              "  }\n",
              "\n",
              "  .colab-df-quickchart-complete:disabled,\n",
              "  .colab-df-quickchart-complete:disabled:hover {\n",
              "    background-color: var(--disabled-bg-color);\n",
              "    fill: var(--disabled-fill-color);\n",
              "    box-shadow: none;\n",
              "  }\n",
              "\n",
              "  .colab-df-spinner {\n",
              "    border: 2px solid var(--fill-color);\n",
              "    border-color: transparent;\n",
              "    border-bottom-color: var(--fill-color);\n",
              "    animation:\n",
              "      spin 1s steps(1) infinite;\n",
              "  }\n",
              "\n",
              "  @keyframes spin {\n",
              "    0% {\n",
              "      border-color: transparent;\n",
              "      border-bottom-color: var(--fill-color);\n",
              "      border-left-color: var(--fill-color);\n",
              "    }\n",
              "    20% {\n",
              "      border-color: transparent;\n",
              "      border-left-color: var(--fill-color);\n",
              "      border-top-color: var(--fill-color);\n",
              "    }\n",
              "    30% {\n",
              "      border-color: transparent;\n",
              "      border-left-color: var(--fill-color);\n",
              "      border-top-color: var(--fill-color);\n",
              "      border-right-color: var(--fill-color);\n",
              "    }\n",
              "    40% {\n",
              "      border-color: transparent;\n",
              "      border-right-color: var(--fill-color);\n",
              "      border-top-color: var(--fill-color);\n",
              "    }\n",
              "    60% {\n",
              "      border-color: transparent;\n",
              "      border-right-color: var(--fill-color);\n",
              "    }\n",
              "    80% {\n",
              "      border-color: transparent;\n",
              "      border-right-color: var(--fill-color);\n",
              "      border-bottom-color: var(--fill-color);\n",
              "    }\n",
              "    90% {\n",
              "      border-color: transparent;\n",
              "      border-bottom-color: var(--fill-color);\n",
              "    }\n",
              "  }\n",
              "</style>\n",
              "\n",
              "  <script>\n",
              "    async function quickchart(key) {\n",
              "      const quickchartButtonEl =\n",
              "        document.querySelector('#' + key + ' button');\n",
              "      quickchartButtonEl.disabled = true;  // To prevent multiple clicks.\n",
              "      quickchartButtonEl.classList.add('colab-df-spinner');\n",
              "      try {\n",
              "        const charts = await google.colab.kernel.invokeFunction(\n",
              "            'suggestCharts', [key], {});\n",
              "      } catch (error) {\n",
              "        console.error('Error during call to suggestCharts:', error);\n",
              "      }\n",
              "      quickchartButtonEl.classList.remove('colab-df-spinner');\n",
              "      quickchartButtonEl.classList.add('colab-df-quickchart-complete');\n",
              "    }\n",
              "    (() => {\n",
              "      let quickchartButtonEl =\n",
              "        document.querySelector('#df-8ae33f93-3110-4821-9181-64726beb3a6f button');\n",
              "      quickchartButtonEl.style.display =\n",
              "        google.colab.kernel.accessAllowed ? 'block' : 'none';\n",
              "    })();\n",
              "  </script>\n",
              "</div>\n",
              "    </div>\n",
              "  </div>\n"
            ],
            "application/vnd.google.colaboratory.intrinsic+json": {
              "type": "dataframe",
              "summary": "{\n  \"name\": \"pd\",\n  \"rows\": 5,\n  \"fields\": [\n    {\n      \"column\": \"Sentence\",\n      \"properties\": {\n        \"dtype\": \"string\",\n        \"num_unique_values\": 5,\n        \"samples\": [\n          \"It partitions the data into three clusters, represented by different colors.\",\n          \"This approach provides insights into how countries compare in terms of their COVID-19 recovery rates.\",\n          \"The choice of K-Means is justified by its simplicity and efficiency, although it requires specifying the number of clusters in advance.\"\n        ],\n        \"semantic_type\": \"\",\n        \"description\": \"\"\n      }\n    },\n    {\n      \"column\": \"Score\",\n      \"properties\": {\n        \"dtype\": \"number\",\n        \"std\": 1.509230856356236,\n        \"min\": 1.3333333333333333,\n        \"max\": 5.0,\n        \"num_unique_values\": 5,\n        \"samples\": [\n          1.3333333333333333,\n          2.6666666666666665,\n          3.0\n        ],\n        \"semantic_type\": \"\",\n        \"description\": \"\"\n      }\n    }\n  ]\n}"
            }
          },
          "metadata": {},
          "execution_count": 39
        }
      ]
    },
    {
      "cell_type": "code",
      "source": [
        "from heapq import nlargest"
      ],
      "metadata": {
        "id": "4HvXf2oe_L_X"
      },
      "execution_count": null,
      "outputs": []
    },
    {
      "cell_type": "code",
      "source": [
        "num_sentences = 3\n",
        "n = nlargest(num_sentences,sent_score,key=sent_score.get)"
      ],
      "metadata": {
        "id": "2qhPTx9N_MCk"
      },
      "execution_count": null,
      "outputs": []
    },
    {
      "cell_type": "code",
      "source": [
        "\" \".join(n)"
      ],
      "metadata": {
        "colab": {
          "base_uri": "https://localhost:8080/",
          "height": 105
        },
        "id": "n7jaiWHLtZh8",
        "outputId": "eabbe800-993e-4450-992d-b666883c7d2b"
      },
      "execution_count": null,
      "outputs": [
        {
          "output_type": "execute_result",
          "data": {
            "text/plain": [
              "'In conclusion, the provided code clusters countries based on the ratio of affected to recovered COVID-19 cases using the K-Means algorithm. The dataset includes attributes such as country names, total reported cases, and total recovered cases, with unnecessary columns excluded for this analysis. The choice of K-Means is justified by its simplicity and efficiency, although it requires specifying the number of clusters in advance.'"
            ],
            "application/vnd.google.colaboratory.intrinsic+json": {
              "type": "string"
            }
          },
          "metadata": {},
          "execution_count": 46
        }
      ]
    },
    {
      "cell_type": "code",
      "source": [
        "from transformers import pipeline"
      ],
      "metadata": {
        "id": "s_1ndQ4Eindi"
      },
      "execution_count": 1,
      "outputs": []
    },
    {
      "cell_type": "code",
      "source": [
        "summarizer=pipeline(\"summarization\",model='t5-base',tokenizer='t5-base',framework='pt')"
      ],
      "metadata": {
        "id": "EJrXW8Epinf6"
      },
      "execution_count": 3,
      "outputs": []
    },
    {
      "cell_type": "code",
      "source": [
        "text=\"\"\"Agra is a city offering a discovery of the beautiful era. Agra has a rich history, reflected in its numerous monuments dotted in and around the city. The earliest citation for Agra comes from the mythological era, where the epic Mahabharata refer Agra as ‘Agravana’ meaning paradise in Sanskrit. ‘Ptolemy’, the famous second century A.D. geographer, was the first person who referred Agra with its modern name. The Modern Agra was founded by Sikandar Lodi, ruler of Lodi dynasty in 16th century. It was when Shah Jahan descended the Mughal throne that Agra reached the zenith of architectural beauty.\n",
        "\n",
        "The city lies in the Western part of Uttar Pradesh on the bank of River Yamuna. Though the wonderful allure of the Taj Mahal attracts people from around the world over to Agra, it is not a standalone attraction. The city offers a trail of fascinating tombs and mausoleums to explore. Acclaimed for its lavish crafts like Pietra Dura (marble inlay) work, rugs and leather goods, and the luscious Petha, Agra equally caters well to shopaholics and foodies.\"\"\"\n",
        "\n"
      ],
      "metadata": {
        "id": "KHrGLvCvinib"
      },
      "execution_count": 4,
      "outputs": []
    },
    {
      "cell_type": "code",
      "source": [
        "summary = summarizer(text,max_length=100,min_length=10,do_sample=False)"
      ],
      "metadata": {
        "id": "-hUUCvunink9"
      },
      "execution_count": 6,
      "outputs": []
    },
    {
      "cell_type": "code",
      "source": [
        "summary"
      ],
      "metadata": {
        "colab": {
          "base_uri": "https://localhost:8080/"
        },
        "id": "mV4frKm6inoc",
        "outputId": "b40d47bb-3439-4a3b-aad8-4df6d1ebaaef"
      },
      "execution_count": 7,
      "outputs": [
        {
          "output_type": "execute_result",
          "data": {
            "text/plain": [
              "[{'summary_text': 'the earliest citation for Agra comes from the mythological era, where the epic Mahabharata refer Agra as ‘Agravana’ meaning paradise in Sanskrit . ‘Ptolemy’, the famous second century a.d. geographer, was the first person who referred Agra with its modern name .'}]"
            ]
          },
          "metadata": {},
          "execution_count": 7
        }
      ]
    },
    {
      "cell_type": "code",
      "source": [
        "print(summary[0]['summary_text'])"
      ],
      "metadata": {
        "colab": {
          "base_uri": "https://localhost:8080/"
        },
        "id": "H5SIAxpDlDPu",
        "outputId": "96d62963-77e7-45ed-fd61-c0884630fbc3"
      },
      "execution_count": 8,
      "outputs": [
        {
          "output_type": "stream",
          "name": "stdout",
          "text": [
            "the earliest citation for Agra comes from the mythological era, where the epic Mahabharata refer Agra as ‘Agravana’ meaning paradise in Sanskrit . ‘Ptolemy’, the famous second century a.d. geographer, was the first person who referred Agra with its modern name .\n"
          ]
        }
      ]
    },
    {
      "cell_type": "code",
      "source": [
        "from transformers import pipeline\n",
        "import ipywidgets as widgets\n",
        "from IPython.display import display\n",
        "\n",
        "def summarize_text(b):\n",
        "    text = text_entry.value\n",
        "    summary = summarizer(text, max_length=100, min_length=10, do_sample=False)\n",
        "\n",
        "    output_text.value = summary[0]['summary_text']\n",
        "\n",
        "text_entry = widgets.Textarea(\n",
        "    placeholder='Enter text here...',\n",
        "    layout={'height': '200px', 'width': '600px'}\n",
        ")\n",
        "\n",
        "summarize_button = widgets.Button(description=\"Summarize\")\n",
        "summarize_button.on_click(summarize_text)\n",
        "\n",
        "output_text = widgets.Textarea(\n",
        "    placeholder='Summary will appear here...',\n",
        "    layout={'height': '200px', 'width': '600px'}\n",
        ")\n",
        "\n",
        "display(widgets.VBox([text_entry, summarize_button, output_text]))\n",
        "\n",
        "summarizer = pipeline(\"summarization\", model=\"t5-base\", tokenizer=\"t5-base\", framework=\"pt\")\n"
      ],
      "metadata": {
        "colab": {
          "base_uri": "https://localhost:8080/",
          "height": 494,
          "referenced_widgets": [
            "6dec453917474b99aa5411de09be4dc4",
            "7822672922db4263925af5b2dbe36d05",
            "ea0a8c756f414a16a788a5b1bde8d0db",
            "3289b6c96d094cfe836b9c2f999a2569",
            "dec22fd3c9a544ec81803473b731e4a2",
            "6e7a7fd967574c4b8feb5673b0f155e0",
            "457edb69dd3143d48165bc0bb87359e1",
            "6f0dc4c068b146be94612a1536902d2c",
            "4ec60ba179734f17bbe3dc5e3c223100",
            "90e482da3c1448418385ab2573662da4",
            "187f21c58fe744baafc720748b1ad3bd"
          ]
        },
        "id": "BTbWTmSBlDTR",
        "outputId": "a85da028-4081-4ae9-dcea-937d8d73fd96"
      },
      "execution_count": 14,
      "outputs": [
        {
          "output_type": "display_data",
          "data": {
            "text/plain": [
              "VBox(children=(Textarea(value='', layout=Layout(height='200px', width='600px'), placeholder='Enter text here..…"
            ],
            "application/vnd.jupyter.widget-view+json": {
              "version_major": 2,
              "version_minor": 0,
              "model_id": "6dec453917474b99aa5411de09be4dc4"
            }
          },
          "metadata": {}
        },
        {
          "output_type": "stream",
          "name": "stderr",
          "text": [
            "Your max_length is set to 100, but your input_length is only 57. Since this is a summarization task, where outputs shorter than the input are typically wanted, you might consider decreasing max_length manually, e.g. summarizer('...', max_length=28)\n"
          ]
        }
      ]
    },
    {
      "cell_type": "code",
      "source": [],
      "metadata": {
        "id": "khkQ9Dk1lDgv"
      },
      "execution_count": null,
      "outputs": []
    },
    {
      "cell_type": "code",
      "source": [],
      "metadata": {
        "id": "PHOX-AC5lDjc"
      },
      "execution_count": null,
      "outputs": []
    },
    {
      "cell_type": "code",
      "source": [],
      "metadata": {
        "id": "Kx3hpmKplDms"
      },
      "execution_count": null,
      "outputs": []
    }
  ]
}